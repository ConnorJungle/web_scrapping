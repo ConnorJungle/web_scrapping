{
 "cells": [
  {
   "cell_type": "code",
   "execution_count": 1,
   "metadata": {},
   "outputs": [],
   "source": [
    "import requests\n",
    "from bs4 import BeautifulSoup\n",
    "import pandas as pd\n",
    "import re\n",
    "\n",
    "pd.set_option('max_column', 100)"
   ]
  },
  {
   "cell_type": "code",
   "execution_count": 97,
   "metadata": {},
   "outputs": [],
   "source": [
    "def get_max_pages(domain, path, tag):\n",
    "    \n",
    "    url = f'{domain}/{path}'\n",
    "    r = requests.get(url)\n",
    "    soup = BeautifulSoup(r.text)\n",
    "    \n",
    "    ### get the number of pages of active players\n",
    "\n",
    "    return  int(soup.findAll(tag, text='Last')[0].get('data-val'))"
   ]
  },
  {
   "cell_type": "code",
   "execution_count": 105,
   "metadata": {},
   "outputs": [],
   "source": [
    "links = []\n",
    "domain = 'https://www.capfriendly.com'\n",
    "path = 'browse/active'\n",
    "href = 'browse/active?&pg='\n",
    "tag = 'a'\n",
    "\n",
    "for page in range(1, \n",
    "                  get_max_pages(domain, path, 'a') + 1):\n",
    "    url = f'{domain}/{href}{page}'\n",
    "    r = requests.get(url)\n",
    "    soup = BeautifulSoup(r.text)\n",
    "    \n",
    "    for link in soup.findAll('a', attrs={'href': re.compile(\"players\")}):\n",
    "        links.append(domain + link.get('href'))"
   ]
  },
  {
   "cell_type": "markdown",
   "metadata": {},
   "source": [
    "### Get contract metadata"
   ]
  },
  {
   "cell_type": "code",
   "execution_count": 107,
   "metadata": {},
   "outputs": [],
   "source": [
    "def get_current_contract_meta(data, url, contract_id):\n",
    "\n",
    "    # Get metadata div\n",
    "    meta = data.find('div', \n",
    "#                      attrs={'class' : 'contract_data rel cntrct'}\n",
    "                    )\n",
    "    # start with empty dictionary\n",
    "    row = {}\n",
    "    # player url is key\n",
    "    row['player_url'] = url\n",
    "    row['contract_id'] = contract_id\n",
    "    # get header for player contract type\n",
    "    header = meta.find_all('h6')\n",
    "    for h in header:\n",
    "        row['contract_type'] = h.text\n",
    "    # loop over divs to get attributes of contract\n",
    "    for m in meta:\n",
    "        d = m.find_all('div')\n",
    "        for t in d:\n",
    "            if ':' in t.text:\n",
    "                if \"SOURCE\" in t.text:\n",
    "                    try:\n",
    "                        row['source'] = t.find('a').get('href')\n",
    "                    except:\n",
    "                        # no source\n",
    "                        row['source'] = None\n",
    "                else:\n",
    "                    row[t.text.split(':', maxsplit=1)[0].lower()] =  t.text.split(':', maxsplit=1)[1]           \n",
    "    # contruct data frame and set player url as index\n",
    "    player_meta = pd.DataFrame([row]).set_index('player_url')\n",
    "    \n",
    "    return player_meta"
   ]
  },
  {
   "cell_type": "code",
   "execution_count": 264,
   "metadata": {},
   "outputs": [
    {
     "data": {
      "text/html": [
       "<div>\n",
       "<style scoped>\n",
       "    .dataframe tbody tr th:only-of-type {\n",
       "        vertical-align: middle;\n",
       "    }\n",
       "\n",
       "    .dataframe tbody tr th {\n",
       "        vertical-align: top;\n",
       "    }\n",
       "\n",
       "    .dataframe thead th {\n",
       "        text-align: right;\n",
       "    }\n",
       "</style>\n",
       "<table border=\"1\" class=\"dataframe\">\n",
       "  <thead>\n",
       "    <tr style=\"text-align: right;\">\n",
       "      <th></th>\n",
       "      <th>contract_id</th>\n",
       "      <th>contract_type</th>\n",
       "      <th>length</th>\n",
       "      <th>expiry status</th>\n",
       "      <th>signing team</th>\n",
       "      <th>value</th>\n",
       "      <th>c.h.%</th>\n",
       "      <th>signing date</th>\n",
       "      <th>source</th>\n",
       "    </tr>\n",
       "    <tr>\n",
       "      <th>player_url</th>\n",
       "      <th></th>\n",
       "      <th></th>\n",
       "      <th></th>\n",
       "      <th></th>\n",
       "      <th></th>\n",
       "      <th></th>\n",
       "      <th></th>\n",
       "      <th></th>\n",
       "      <th></th>\n",
       "    </tr>\n",
       "  </thead>\n",
       "  <tbody>\n",
       "    <tr>\n",
       "      <th>https://www.capfriendly.com/players/connor-mcdavid</th>\n",
       "      <td>1</td>\n",
       "      <td>STANDARD CONTRACT (EXTENSION)</td>\n",
       "      <td>8 YEARS</td>\n",
       "      <td>UFA</td>\n",
       "      <td>Edmonton Oilers</td>\n",
       "      <td>$100,000,000</td>\n",
       "      <td>16.67</td>\n",
       "      <td>July  5, 2017</td>\n",
       "      <td>https://www.twitter.com/@CapFriendly/status/88...</td>\n",
       "    </tr>\n",
       "  </tbody>\n",
       "</table>\n",
       "</div>"
      ],
      "text/plain": [
       "                                                    contract_id  \\\n",
       "player_url                                                        \n",
       "https://www.capfriendly.com/players/connor-mcdavid            1   \n",
       "\n",
       "                                                                    contract_type  \\\n",
       "player_url                                                                          \n",
       "https://www.capfriendly.com/players/connor-mcdavid  STANDARD CONTRACT (EXTENSION)   \n",
       "\n",
       "                                                      length expiry status  \\\n",
       "player_url                                                                   \n",
       "https://www.capfriendly.com/players/connor-mcdavid   8 YEARS           UFA   \n",
       "\n",
       "                                                        signing team  \\\n",
       "player_url                                                             \n",
       "https://www.capfriendly.com/players/connor-mcdavid   Edmonton Oilers   \n",
       "\n",
       "                                                            value  c.h.%   \\\n",
       "player_url                                                                  \n",
       "https://www.capfriendly.com/players/connor-mcdavid   $100,000,000   16.67   \n",
       "\n",
       "                                                      signing date  \\\n",
       "player_url                                                           \n",
       "https://www.capfriendly.com/players/connor-mcdavid   July  5, 2017   \n",
       "\n",
       "                                                                                               source  \n",
       "player_url                                                                                             \n",
       "https://www.capfriendly.com/players/connor-mcdavid  https://www.twitter.com/@CapFriendly/status/88...  "
      ]
     },
     "execution_count": 264,
     "metadata": {},
     "output_type": "execute_result"
    }
   ],
   "source": [
    "get_current_contract_meta(data, url, contract_id)"
   ]
  },
  {
   "cell_type": "markdown",
   "metadata": {},
   "source": [
    "### Get contract table"
   ]
  },
  {
   "cell_type": "code",
   "execution_count": 109,
   "metadata": {},
   "outputs": [],
   "source": [
    "def get_current_contract_table(data, url, contract_id):\n",
    "    # Get table div\n",
    "    table = data.find('table')\n",
    "    # set empty list for data\n",
    "    l = []\n",
    "    # get all rows for table\n",
    "    table_rows = table.find_all('tr')\n",
    "    for tr in table_rows:\n",
    "        td = tr.find_all('td')\n",
    "        row = [tr.text for tr in td]\n",
    "        l.append(row)\n",
    "    # contruct data frame for contract life\n",
    "    player_contract = pd.DataFrame(l[1:], columns=[col.lower() for col in l[0]])\n",
    "    player_contract['player_url'] = url\n",
    "    player_contract['contract_id'] = contract_id\n",
    "    \n",
    "    return player_contract"
   ]
  },
  {
   "cell_type": "code",
   "execution_count": 110,
   "metadata": {},
   "outputs": [],
   "source": [
    "def get_current_contract_data(data, contract_id, url):\n",
    "    \n",
    "    print(f'''Contract ID: {contract_id}''')\n",
    "    \n",
    "    player_contract = get_current_contract_table(data, url, contract_id)\n",
    "    # get player contract metadata from response\n",
    "    player_meta = get_current_contract_meta(data, url, contract_id)\n",
    "    # merge dataframes\n",
    "    current_contract = player_meta.merge(player_contract, on = ['player_url', 'contract_id'])\n",
    "    \n",
    "    return current_contract"
   ]
  },
  {
   "cell_type": "code",
   "execution_count": 50,
   "metadata": {},
   "outputs": [],
   "source": [
    "url = 'https://www.capfriendly.com/players/jt-miller'\n",
    "r = requests.get(url)\n",
    "soup = BeautifulSoup(r.text)\n",
    "\n"
   ]
  },
  {
   "cell_type": "code",
   "execution_count": 111,
   "metadata": {},
   "outputs": [],
   "source": [
    "def get_player_info(soup):\n",
    "    \n",
    "    player_info = {}\n",
    "    player = soup.find_all('h1', {'class': 'c'})[0]\n",
    "    \n",
    "    try:\n",
    "        player_name, number = player.text.split(' #', maxsplit=1)\n",
    "        \n",
    "    except:\n",
    "        player_name = player.text\n",
    "        number = None\n",
    "        \n",
    "    player_name = player_name.title()\n",
    "\n",
    "    player_info['player_name'] = player_name\n",
    "    player_info['player_number'] = number\n",
    "\n",
    "    info = soup.find_all('div', {'class':'indx_b'})\n",
    "\n",
    "    for i in info:\n",
    "        d = i.find_all('div')\n",
    "        for t in d:\n",
    "            if ':' in t.text:\n",
    "                player_info[t.text.split(':', maxsplit=1)[0].lower()] = t.text.split(':', maxsplit=1)[1].lstrip().rstrip()\n",
    "                \n",
    "    return player_info"
   ]
  },
  {
   "cell_type": "markdown",
   "metadata": {},
   "source": [
    "### Run for all active players"
   ]
  },
  {
   "cell_type": "code",
   "execution_count": 113,
   "metadata": {},
   "outputs": [],
   "source": [
    "contract_id = 1\n",
    "\n",
    "def get_contract_data(url):\n",
    "    import random\n",
    "    import time \n",
    "    \n",
    "    global contract_id\n",
    "\n",
    "    try:\n",
    "        print(f'''--- Getting Capfriendly data for: {url} ---''')\n",
    "        ### give it some random wait time so it IP doesn't get blocked\n",
    "        time.sleep(random.uniform(1, 2.5))\n",
    "        \n",
    "        r = requests.get(url)\n",
    "        soup = BeautifulSoup(r.text)\n",
    "        # get player information\n",
    "        player_info = get_player_info(soup)\n",
    "        # get contract data\n",
    "        data = soup.find_all('div',{'class':'table_c contract_cont',})\n",
    "        # list for all contracts\n",
    "        player_data = []\n",
    "        # loop over contracts\n",
    "        for d in data:\n",
    "            player_data.append(get_current_contract_data(d, contract_id, url))\n",
    "            contract_id += 1\n",
    "\n",
    "        contracts = pd.concat(player_data)\n",
    "\n",
    "        # add player info to data frames\n",
    "        for k, v in player_info.items():\n",
    "            contracts[k] = v\n",
    "\n",
    "        return contracts\n",
    "    \n",
    "    except Exception as e:\n",
    "        \n",
    "        print(e)"
   ]
  },
  {
   "cell_type": "code",
   "execution_count": 86,
   "metadata": {},
   "outputs": [
    {
     "name": "stdout",
     "output_type": "stream",
     "text": [
      "--- Getting Capfriendly data for: https://www.capfriendly.com/players/artemi-panarin ---\n"
     ]
    }
   ],
   "source": [
    "url = 'https://www.capfriendly.com/players/connor-mcdavid'\n",
    "url = 'https://www.capfriendly.com/players/artemi-panarin'\n",
    "print(f'''--- Getting Capfriendly data for: {url} ---''')\n",
    "r = requests.get(url)\n",
    "soup = BeautifulSoup(r.text)\n",
    "# get player information\n",
    "player_info = get_player_info(soup)\n",
    "# get contract data\n",
    "data = soup.find_all('div',{'class':'table_c contract_cont',})\n",
    "# list for all contracts\n",
    "player_data = []"
   ]
  },
  {
   "cell_type": "code",
   "execution_count": 91,
   "metadata": {},
   "outputs": [
    {
     "name": "stdout",
     "output_type": "stream",
     "text": [
      "Contract ID: 1\n",
      "Contract ID: 2\n",
      "Contract ID: 3\n"
     ]
    }
   ],
   "source": [
    "contract_id = 1\n",
    "for d in data:\n",
    "    player_data.append(get_current_contract_data(d, contract_id, url))\n",
    "    contract_id += 1"
   ]
  },
  {
   "cell_type": "code",
   "execution_count": 137,
   "metadata": {},
   "outputs": [],
   "source": []
  },
  {
   "cell_type": "code",
   "execution_count": 148,
   "metadata": {},
   "outputs": [],
   "source": [
    "contract_id = 1\n",
    "\n",
    "player_contracts = pd.concat([get_contract_data(url) for url in links], sort=False)\n",
    "\n",
    "# # data pre-processing step\n",
    "contract_length = player_contracts.groupby('contract_id').apply(lambda x : len(x) - 1) ### capfriendly pulls data for totals\n",
    "contract_length.name = 'contract_length'\n",
    "player_contracts = player_contracts.merge(contract_length, left_on = 'contract_id', right_index=True)\n",
    "\n",
    "# cap-hit percentage\n",
    "player_contracts['percent_of_cap'] = player_contracts['c.h.% '].astype(float) / 100\n",
    "# turn contract value to floats\n",
    "player_contracts['value'] = player_contracts.value.replace('[\\$,]', '', regex=True).astype(float)\n",
    "player_contracts['cap hit'] = player_contracts.value.replace('[\\$,]', '', regex=True).astype(float)\n",
    "player_contracts['aav'] = player_contracts.value.replace('[\\$,]', '', regex=True).astype(float)\n",
    "player_contracts['p. bonuses'] = player_contracts.value.replace('[\\$,]', '', regex=True).astype(float)\n",
    "player_contracts['s. bonuses'] = player_contracts.value.replace('[\\$,]', '', regex=True).astype(float)\n",
    "player_contracts['base salary'] = player_contracts.value.replace('[\\$,]', '', regex=True).astype(float)\n",
    "player_contracts['total salary'] = player_contracts.value.replace('[\\$,]', '', regex=True).astype(float)\n",
    "player_contracts['minors sal'] = player_contracts.value.replace('[\\$,]', '', regex=True).astype(float)"
   ]
  },
  {
   "cell_type": "code",
   "execution_count": 491,
   "metadata": {},
   "outputs": [
    {
     "data": {
      "text/plain": [
       "<matplotlib.axes._subplots.AxesSubplot at 0x12396e198>"
      ]
     },
     "execution_count": 491,
     "metadata": {},
     "output_type": "execute_result"
    },
    {
     "data": {
      "image/png": "[encoded data removed]",
      "text/plain": [
       "<Figure size 432x288 with 1 Axes>"
      ]
     },
     "metadata": {
      "needs_background": "light"
     },
     "output_type": "display_data"
    }
   ],
   "source": [
    "df = player_contracts.drop_duplicates(subset=['contract_id'])\n",
    "sns.scatterplot(data=df, x='length', y='percent_of_cap', hue=)"
   ]
  },
  {
   "cell_type": "code",
   "execution_count": 154,
   "metadata": {},
   "outputs": [
    {
     "data": {
      "text/plain": [
       "<AxesSubplot:xlabel='contract_length', ylabel='percent_of_cap'>"
      ]
     },
     "execution_count": 154,
     "metadata": {},
     "output_type": "execute_result"
    },
    {
     "data": {
      "image/png": "[encoded data removed]",
      "text/plain": [
       "<Figure size 432x288 with 1 Axes>"
      ]
     },
     "metadata": {
      "needs_background": "light"
     },
     "output_type": "display_data"
    }
   ],
   "source": [
    "import seaborn as sns\n",
    "df = player_contracts.drop_duplicates(subset=['contract_id'])\n",
    "sns.scatterplot(data=df, x='contract_length', y='percent_of_cap')"
   ]
  },
  {
   "cell_type": "code",
   "execution_count": 493,
   "metadata": {},
   "outputs": [],
   "source": [
    "player_contracts.to_csv(\"data/active_player_contracts.csv\")"
   ]
  },
  {
   "cell_type": "code",
   "execution_count": null,
   "metadata": {},
   "outputs": [],
   "source": []
  }
 ],
 "metadata": {
  "kernelspec": {
   "display_name": "Python 3",
   "language": "python",
   "name": "python3"
  },
  "language_info": {
   "codemirror_mode": {
    "name": "ipython",
    "version": 3
   },
   "file_extension": ".py",
   "mimetype": "text/x-python",
   "name": "python",
   "nbconvert_exporter": "python",
   "pygments_lexer": "ipython3",
   "version": "3.7.6"
  }
 },
 "nbformat": 4,
 "nbformat_minor": 2
}
